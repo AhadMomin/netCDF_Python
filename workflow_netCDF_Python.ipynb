{
 "cells": [
  {
   "cell_type": "markdown",
   "metadata": {},
   "source": [
    "### Python Reader For Netcdf files with Subsection Visualization in (Netcdf, Tiff) Formats\n",
    "#### Ahad Momin (ahadmomin16@gmail.com)\n",
    "##### [GitHub](https://github.com/AhadMomin) | [Website](http://ahadmomin.github.io) |\n",
    "#### Supervisor: Christoph Arns & Masa Prodanovic\n",
    "#### Digital Rock Petrophysics\n",
    "\n",
    "The python reader will read the netcdf file and the image arrays will be extracted stored in Tiff format (IMGAGE J). The arrays can also be vizualized in Python as well as Ncview for Netcdf\n",
    "\n",
    "The goal of the script is also to subsect the large datasets into smaller files and share it with data developers and researchers through Digital Rock Portal. \n",
    "\n",
    "#### Import Required Packages\n",
    "\n",
    "We will also need some standard packages. These should have been installed with Anaconda 3.\n",
    "\n",
    "#### Load the required libraries\n",
    "\n",
    "The following code loads the required libraries.\n"
   ]
  },
  {
   "cell_type": "code",
   "execution_count": 1,
   "metadata": {},
   "outputs": [],
   "source": [
    "import netCDF4 as ncdf                    # net cdf format files\n",
    "import numpy as np                        # data fill in \n",
    "import matplotlib.pyplot as plt           # For plotting\n",
    "import matplotlib.image as im\n",
    "import os                                 # set working directory, run executables\n",
    "import tifffile as tiff"
   ]
  },
  {
   "cell_type": "markdown",
   "metadata": {},
   "source": [
    "#### Set the working directory\n",
    "The working directory is set to the folder where the data files are stored. Good Practice!"
   ]
  },
  {
   "cell_type": "code",
   "execution_count": 2,
   "metadata": {},
   "outputs": [],
   "source": [
    "os.chdir(\"C:/Users/ahadm/Documents/UNSW Research/netcdf data sets/UT/DRP/GRF/GRF_phase\")     "
   ]
  },
  {
   "cell_type": "markdown",
   "metadata": {},
   "source": [
    "#### Read the Netcdf data files\n",
    "\n",
    "The most current Netcdf data comprises of Groups,Variables,Attributes and Dimensions . All of these needs to be read so we can see understand the data set before we store and create subsections. \n",
    "\n",
    "I am using two different data sets here!"
   ]
  },
  {
   "cell_type": "code",
   "execution_count": 3,
   "metadata": {},
   "outputs": [
    {
     "name": "stdout",
     "output_type": "stream",
     "text": [
      "<class 'netCDF4._netCDF4.Dataset'>\n",
      "root group (NETCDF4_CLASSIC data model, file format HDF5):\n",
      "    number_of_files: 8\n",
      "    voxel_size_xyz: [4.6875 4.6875 4.6875]\n",
      "    voxel_unit: um\n",
      "    zdim_range: [209 417]\n",
      "    zdim_total: 1600\n",
      "    coordinate_origin_xyz: [0 0 0]\n",
      "    history_20130820_183613_m72f30_phase: Phase Field\n",
      "FUNCTION:\n",
      "      Derive various morphological measures on a combination of segmented    \n",
      "      files and distance maps, including Minkowski functionals, chord length,\n",
      "      critical radii, phase fractions, and surface are tensors.\n",
      "USER: \n",
      "      cha110\n",
      "DATE: \n",
      "      20/08/2013, 18:36:13\n",
      "COMMAND: \n",
      "      morph.mpi -nprocs 4 8 8 -NC_deflate 0 -NC_cmode 0 -fv m72f30 -fr m72f30 -nxyz 3200 1600 1600 -oxyz 0 0 0 -nph 2 -mph -1 -phit 1 0 -phie 1 0 -BC_mic 0 -ph_shift 0 -BC_dir 1 -BC_peri F F F -dr 0.5 -bas -phf -voxel_size .0046875 .0046875 .0046875\n",
      "DIRECTORY: \n",
      "      /short/m65/cha110/ICMRM_2013/GRF\n",
      "PARAMETERS: \n",
      "      -------------------------------- Processor layout ---------------------------------\n",
      "      &PARMS_PROC\n",
      "      NPRC_X  =         256,\n",
      "      NPRC_Y  =           1,\n",
      "      NPRC_Z  =           1,\n",
      "      CPT_INT =   10800.0000000000     ,\n",
      "      CPT_TMX =   14400.0000000000\n",
      "      /\n",
      "      ------------------------------- Phase distribution --------------------------------\n",
      "      &PARMS_PHASE\n",
      "      FNM_VOX = m72f30\n",
      "     \n",
      "        ,\n",
      "      FNM_GRN =\n",
      "     \n",
      "        ,\n",
      "      FNM_POR =\n",
      "     \n",
      "        ,\n",
      "      FNM_CDT =\n",
      "     \n",
      "        ,\n",
      "      FNM_CRT =\n",
      "     \n",
      "        ,\n",
      "      FNM_EDT =\n",
      "     \n",
      "        ,\n",
      "      FNM_RES = m72f30\n",
      "     \n",
      "        ,\n",
      "      FNM_ROI =\n",
      "     \n",
      "        ,\n",
      "      FNM_ROIDT       =\n",
      "     \n",
      "                ,\n",
      "      NX      =        3200,\n",
      "      NY      =        1600,\n",
      "      NZ      =        1600,\n",
      "      OX      =           0,\n",
      "      OY      =           0,\n",
      "      OZ      =           0,\n",
      "      R_CDT   =  0.000000000000000E+000,\n",
      "      R_CRT   =  0.000000000000000E+000,\n",
      "      R_EDT   =  0.000000000000000E+000,\n",
      "      NPHASE  =           2,\n",
      "      PH_SHIFT        =           0,\n",
      "      PH_GRC  =          -1,\n",
      "      PH_DGRC =           1,\n",
      "      PH_GRCA =          -1,\n",
      "      PH_DGRCA        =           1,\n",
      "      PH_PP   =           0,\n",
      "      PH_GRCC =          -1,\n",
      "      PH_DGRCC        =           1,\n",
      "      PH_GRN  =          -1,\n",
      "      PH_CDT  =           0,\n",
      "      PH_CRT  =           0,\n",
      "      PH_EDT  =           0,\n",
      "      BC_PERI = 3*F,\n",
      "      BC_MIRROR       = 3*F,\n",
      "      BC_DIR  =           1,\n",
      "      BC_LAYER        =           0,\n",
      "      BC_MIC  =           0,\n",
      "      POST_GRID       = F,\n",
      "      POST_SEG        = F,\n",
      "      POST_ROI        = F,\n",
      "      POST_DIST       = F,\n",
      "      POST_POR        = F,\n",
      "      POST_GRN        = F\n",
      "      /\n",
      "      ------------------------------- Morphology solver ---------------------------------\n",
      "      &PARMS_MORPH\n",
      "      RC_DR   =  0.500000000000000     ,\n",
      "      PERC_MASK       = 1143*F,\n",
      "      LC_MASK = 1143*F,\n",
      "      RC_MASK = 1143*F,\n",
      "      PC_MASK = 1143*F,\n",
      "      EDT_MASK        = 127*F,\n",
      "      CRT_MASK        = 127*F,\n",
      "      CDT_MASK        = 127*F,\n",
      "      RUN_CHD = T,\n",
      "      RUN_FRC = T,\n",
      "      RUN_MKF = T,\n",
      "      RUN_SAV = T,\n",
      "      RUN_PRC = F,\n",
      "      PC_FIELD        = F,\n",
      "      LC_FIELD        = F,\n",
      "      RC_FIELD        = F,\n",
      "      LP_FIELD        = T,\n",
      "      SC_RHO1 =   1.01300000000000     ,\n",
      "      SC_RHO2 =  1.200000000000000E-003,\n",
      "      SC_RI   =  -1.00000000000000     ,\n",
      "      SC_RO   =   8.60000000000000     ,\n",
      "      SC_RPMB =   100.000000000000     ,\n",
      "      SC_RPMF =  2.500000000000000E-002\n",
      "      /\n",
      "\n",
      "    dimensions(sizes): phase_xdim(3200), phase_ydim(1600), phase_zdim(209)\n",
      "    variables(dimensions): int8 phase(phase_zdim,phase_ydim,phase_xdim)\n",
      "    groups: \n"
     ]
    }
   ],
   "source": [
    "data = ncdf.Dataset('block00000001.nc','r')\n",
    "print(data)"
   ]
  },
  {
   "cell_type": "markdown",
   "metadata": {},
   "source": [
    "#### Read Variables in the datasets\n"
   ]
  },
  {
   "cell_type": "code",
   "execution_count": 4,
   "metadata": {},
   "outputs": [
    {
     "name": "stdout",
     "output_type": "stream",
     "text": [
      "phase <class 'netCDF4._netCDF4.Variable'>\n",
      "int8 phase(phase_zdim, phase_ydim, phase_xdim)\n",
      "    data_description: Phase Field\n",
      "    valid_range: [1 2]\n",
      "    missing_value: -127\n",
      "unlimited dimensions: \n",
      "current shape = (209, 1600, 3200)\n",
      "filling on, default _FillValue of -127 ignored (209, 1600, 3200)\n"
     ]
    }
   ],
   "source": [
    "for v in data.variables:\n",
    "    print (v, data.variables[v],data.variables[v].shape)\n"
   ]
  },
  {
   "cell_type": "markdown",
   "metadata": {},
   "source": [
    "From this sepecific data it looks like its a segmented file where the array of shape (400,400,400) is stored in the variable 'segmented' and in the other data set its 'labels'"
   ]
  },
  {
   "cell_type": "markdown",
   "metadata": {},
   "source": [
    "#### Read Dimensions in the datasets\n",
    "see the coordinate System. Corrdinates are flipped in data sets so you want to make sure to understand how the corrdinate system is in the file"
   ]
  },
  {
   "cell_type": "code",
   "execution_count": 5,
   "metadata": {},
   "outputs": [
    {
     "name": "stdout",
     "output_type": "stream",
     "text": [
      "<class 'netCDF4._netCDF4.Dimension'>: name = 'phase_xdim', size = 3200\n",
      "<class 'netCDF4._netCDF4.Dimension'>: name = 'phase_ydim', size = 1600\n",
      "<class 'netCDF4._netCDF4.Dimension'>: name = 'phase_zdim', size = 209\n"
     ]
    }
   ],
   "source": [
    "for dimobj in data.dimensions.values():\n",
    "     print(dimobj)"
   ]
  },
  {
   "cell_type": "markdown",
   "metadata": {},
   "source": [
    "#### Read Global Attributes in the datasets"
   ]
  },
  {
   "cell_type": "code",
   "execution_count": 6,
   "metadata": {},
   "outputs": [
    {
     "name": "stdout",
     "output_type": "stream",
     "text": [
      "Global attr number_of_files = 8\n",
      "Global attr voxel_size_xyz = [4.6875 4.6875 4.6875]\n",
      "Global attr voxel_unit = um\n",
      "Global attr zdim_range = [209 417]\n",
      "Global attr zdim_total = 1600\n",
      "Global attr coordinate_origin_xyz = [0 0 0]\n",
      "Global attr history_20130820_183613_m72f30_phase = Phase Field\n",
      "FUNCTION:\n",
      "      Derive various morphological measures on a combination of segmented    \n",
      "      files and distance maps, including Minkowski functionals, chord length,\n",
      "      critical radii, phase fractions, and surface are tensors.\n",
      "USER: \n",
      "      cha110\n",
      "DATE: \n",
      "      20/08/2013, 18:36:13\n",
      "COMMAND: \n",
      "      morph.mpi -nprocs 4 8 8 -NC_deflate 0 -NC_cmode 0 -fv m72f30 -fr m72f30 -nxyz 3200 1600 1600 -oxyz 0 0 0 -nph 2 -mph -1 -phit 1 0 -phie 1 0 -BC_mic 0 -ph_shift 0 -BC_dir 1 -BC_peri F F F -dr 0.5 -bas -phf -voxel_size .0046875 .0046875 .0046875\n",
      "DIRECTORY: \n",
      "      /short/m65/cha110/ICMRM_2013/GRF\n",
      "PARAMETERS: \n",
      "      -------------------------------- Processor layout ---------------------------------\n",
      "      &PARMS_PROC\n",
      "      NPRC_X  =         256,\n",
      "      NPRC_Y  =           1,\n",
      "      NPRC_Z  =           1,\n",
      "      CPT_INT =   10800.0000000000     ,\n",
      "      CPT_TMX =   14400.0000000000\n",
      "      /\n",
      "      ------------------------------- Phase distribution --------------------------------\n",
      "      &PARMS_PHASE\n",
      "      FNM_VOX = m72f30\n",
      "     \n",
      "        ,\n",
      "      FNM_GRN =\n",
      "     \n",
      "        ,\n",
      "      FNM_POR =\n",
      "     \n",
      "        ,\n",
      "      FNM_CDT =\n",
      "     \n",
      "        ,\n",
      "      FNM_CRT =\n",
      "     \n",
      "        ,\n",
      "      FNM_EDT =\n",
      "     \n",
      "        ,\n",
      "      FNM_RES = m72f30\n",
      "     \n",
      "        ,\n",
      "      FNM_ROI =\n",
      "     \n",
      "        ,\n",
      "      FNM_ROIDT       =\n",
      "     \n",
      "                ,\n",
      "      NX      =        3200,\n",
      "      NY      =        1600,\n",
      "      NZ      =        1600,\n",
      "      OX      =           0,\n",
      "      OY      =           0,\n",
      "      OZ      =           0,\n",
      "      R_CDT   =  0.000000000000000E+000,\n",
      "      R_CRT   =  0.000000000000000E+000,\n",
      "      R_EDT   =  0.000000000000000E+000,\n",
      "      NPHASE  =           2,\n",
      "      PH_SHIFT        =           0,\n",
      "      PH_GRC  =          -1,\n",
      "      PH_DGRC =           1,\n",
      "      PH_GRCA =          -1,\n",
      "      PH_DGRCA        =           1,\n",
      "      PH_PP   =           0,\n",
      "      PH_GRCC =          -1,\n",
      "      PH_DGRCC        =           1,\n",
      "      PH_GRN  =          -1,\n",
      "      PH_CDT  =           0,\n",
      "      PH_CRT  =           0,\n",
      "      PH_EDT  =           0,\n",
      "      BC_PERI = 3*F,\n",
      "      BC_MIRROR       = 3*F,\n",
      "      BC_DIR  =           1,\n",
      "      BC_LAYER        =           0,\n",
      "      BC_MIC  =           0,\n",
      "      POST_GRID       = F,\n",
      "      POST_SEG        = F,\n",
      "      POST_ROI        = F,\n",
      "      POST_DIST       = F,\n",
      "      POST_POR        = F,\n",
      "      POST_GRN        = F\n",
      "      /\n",
      "      ------------------------------- Morphology solver ---------------------------------\n",
      "      &PARMS_MORPH\n",
      "      RC_DR   =  0.500000000000000     ,\n",
      "      PERC_MASK       = 1143*F,\n",
      "      LC_MASK = 1143*F,\n",
      "      RC_MASK = 1143*F,\n",
      "      PC_MASK = 1143*F,\n",
      "      EDT_MASK        = 127*F,\n",
      "      CRT_MASK        = 127*F,\n",
      "      CDT_MASK        = 127*F,\n",
      "      RUN_CHD = T,\n",
      "      RUN_FRC = T,\n",
      "      RUN_MKF = T,\n",
      "      RUN_SAV = T,\n",
      "      RUN_PRC = F,\n",
      "      PC_FIELD        = F,\n",
      "      LC_FIELD        = F,\n",
      "      RC_FIELD        = F,\n",
      "      LP_FIELD        = T,\n",
      "      SC_RHO1 =   1.01300000000000     ,\n",
      "      SC_RHO2 =  1.200000000000000E-003,\n",
      "      SC_RI   =  -1.00000000000000     ,\n",
      "      SC_RO   =   8.60000000000000     ,\n",
      "      SC_RPMB =   100.000000000000     ,\n",
      "      SC_RPMF =  2.500000000000000E-002\n",
      "      /\n",
      "\n"
     ]
    }
   ],
   "source": [
    "for name in data.ncattrs():\n",
    "       print(\"Global attr {} = {}\".format(name, getattr(data, name)))"
   ]
  },
  {
   "cell_type": "markdown",
   "metadata": {},
   "source": [
    "#### Create variables to store the arrays from the data set"
   ]
  },
  {
   "cell_type": "code",
   "execution_count": 9,
   "metadata": {},
   "outputs": [
    {
     "name": "stdout",
     "output_type": "stream",
     "text": [
      "(209, 1600, 3200)\n"
     ]
    }
   ],
   "source": [
    "image= data.variables['phase'][:]\n",
    "print(image.shape)"
   ]
  },
  {
   "cell_type": "markdown",
   "metadata": {},
   "source": [
    "#### Visualize the stored arrays (The slices can be saved but Matplotlib only saves in 8bit)"
   ]
  },
  {
   "cell_type": "code",
   "execution_count": null,
   "metadata": {
    "scrolled": false
   },
   "outputs": [
    {
     "data": {
      "image/png": "[encoded data removed]",
      "text/plain": [
       "<Figure size 432x288 with 1 Axes>"
      ]
     },
     "metadata": {
      "needs_background": "light"
     },
     "output_type": "display_data"
    },
    {
     "name": "stdout",
     "output_type": "stream",
     "text": [
      "Done!\n"
     ]
    }
   ],
   "source": [
    "#for Variable1_data1\n",
    "plt.ion()                                \n",
    "for i in range(1):           #the number in the range can be changed to the length of the z corrdinate  \n",
    "    plt.cla()                           \n",
    "    plt.imshow(image[i,:,:])      #cmap='gray',vmin=0,vmax=255\n",
    "    plt.draw()\n",
    "    plt.axis('off')\n",
    "#     plt.savefig('%05d.tiff'%i,bbox_inches='tight',dpi= 1000, quality=95 )\n",
    "    plt.subplots_adjust(left=0, bottom=0.0, right=2.0, top=1.0, wspace=0.4, hspace=0.3)\n",
    "    plt.pause(0.05) \n",
    "plt.ioff()                              \n",
    "print('Done!')"
   ]
  },
  {
   "cell_type": "markdown",
   "metadata": {},
   "source": [
    "#### Save Nc Array into Volumetric Tiff file"
   ]
  },
  {
   "cell_type": "code",
   "execution_count": null,
   "metadata": {},
   "outputs": [
    {
     "name": "stdout",
     "output_type": "stream",
     "text": [
      "Variable: phase\n",
      "New_Subsect_Shape: (209, 1600, 3200)\n",
      "datadump/history: <class 'netCDF4._netCDF4.Dataset'>\n",
      "root group (NETCDF4_CLASSIC data model, file format HDF5):\n",
      "    number_of_files: 8\n",
      "    voxel_size_xyz: [4.6875 4.6875 4.6875]\n",
      "    voxel_unit: um\n",
      "    zdim_range: [209 417]\n",
      "    zdim_total: 1600\n",
      "    coordinate_origin_xyz: [0 0 0]\n",
      "    history_20130820_183613_m72f30_phase: Phase Field\n",
      "FUNCTION:\n",
      "      Derive various morphological measures on a combination of segmented    \n",
      "      files and distance maps, including Minkowski functionals, chord length,\n",
      "      critical radii, phase fractions, and surface are tensors.\n",
      "USER: \n",
      "      cha110\n",
      "DATE: \n",
      "      20/08/2013, 18:36:13\n",
      "COMMAND: \n",
      "      morph.mpi -nprocs 4 8 8 -NC_deflate 0 -NC_cmode 0 -fv m72f30 -fr m72f30 -nxyz 3200 1600 1600 -oxyz 0 0 0 -nph 2 -mph -1 -phit 1 0 -phie 1 0 -BC_mic 0 -ph_shift 0 -BC_dir 1 -BC_peri F F F -dr 0.5 -bas -phf -voxel_size .0046875 .0046875 .0046875\n",
      "DIRECTORY: \n",
      "      /short/m65/cha110/ICMRM_2013/GRF\n",
      "PARAMETERS: \n",
      "      -------------------------------- Processor layout ---------------------------------\n",
      "      &PARMS_PROC\n",
      "      NPRC_X  =         256,\n",
      "      NPRC_Y  =           1,\n",
      "      NPRC_Z  =           1,\n",
      "      CPT_INT =   10800.0000000000     ,\n",
      "      CPT_TMX =   14400.0000000000\n",
      "      /\n",
      "      ------------------------------- Phase distribution --------------------------------\n",
      "      &PARMS_PHASE\n",
      "      FNM_VOX = m72f30\n",
      "     \n",
      "        ,\n",
      "      FNM_GRN =\n",
      "     \n",
      "        ,\n",
      "      FNM_POR =\n",
      "     \n",
      "        ,\n",
      "      FNM_CDT =\n",
      "     \n",
      "        ,\n",
      "      FNM_CRT =\n",
      "     \n",
      "        ,\n",
      "      FNM_EDT =\n",
      "     \n",
      "        ,\n",
      "      FNM_RES = m72f30\n",
      "     \n",
      "        ,\n",
      "      FNM_ROI =\n",
      "     \n",
      "        ,\n",
      "      FNM_ROIDT       =\n",
      "     \n",
      "                ,\n",
      "      NX      =        3200,\n",
      "      NY      =        1600,\n",
      "      NZ      =        1600,\n",
      "      OX      =           0,\n",
      "      OY      =           0,\n",
      "      OZ      =           0,\n",
      "      R_CDT   =  0.000000000000000E+000,\n",
      "      R_CRT   =  0.000000000000000E+000,\n",
      "      R_EDT   =  0.000000000000000E+000,\n",
      "      NPHASE  =           2,\n",
      "      PH_SHIFT        =           0,\n",
      "      PH_GRC  =          -1,\n",
      "      PH_DGRC =           1,\n",
      "      PH_GRCA =          -1,\n",
      "      PH_DGRCA        =           1,\n",
      "      PH_PP   =           0,\n",
      "      PH_GRCC =          -1,\n",
      "      PH_DGRCC        =           1,\n",
      "      PH_GRN  =          -1,\n",
      "      PH_CDT  =           0,\n",
      "      PH_CRT  =           0,\n",
      "      PH_EDT  =           0,\n",
      "      BC_PERI = 3*F,\n",
      "      BC_MIRROR       = 3*F,\n",
      "      BC_DIR  =           1,\n",
      "      BC_LAYER        =           0,\n",
      "      BC_MIC  =           0,\n",
      "      POST_GRID       = F,\n",
      "      POST_SEG        = F,\n",
      "      POST_ROI        = F,\n",
      "      POST_DIST       = F,\n",
      "      POST_POR        = F,\n",
      "      POST_GRN        = F\n",
      "      /\n",
      "      ------------------------------- Morphology solver ---------------------------------\n",
      "      &PARMS_MORPH\n",
      "      RC_DR   =  0.500000000000000     ,\n",
      "      PERC_MASK       = 1143*F,\n",
      "      LC_MASK = 1143*F,\n",
      "      RC_MASK = 1143*F,\n",
      "      PC_MASK = 1143*F,\n",
      "      EDT_MASK        = 127*F,\n",
      "      CRT_MASK        = 127*F,\n",
      "      CDT_MASK        = 127*F,\n",
      "      RUN_CHD = T,\n",
      "      RUN_FRC = T,\n",
      "      RUN_MKF = T,\n",
      "      RUN_SAV = T,\n",
      "      RUN_PRC = F,\n",
      "      PC_FIELD        = F,\n",
      "      LC_FIELD        = F,\n",
      "      RC_FIELD        = F,\n",
      "      LP_FIELD        = T,\n",
      "      SC_RHO1 =   1.01300000000000     ,\n",
      "      SC_RHO2 =  1.200000000000000E-003,\n",
      "      SC_RI   =  -1.00000000000000     ,\n",
      "      SC_RO   =   8.60000000000000     ,\n",
      "      SC_RPMB =   100.000000000000     ,\n",
      "      SC_RPMF =  2.500000000000000E-002\n",
      "      /\n",
      "\n",
      "    dimensions(sizes): phase_xdim(3200), phase_ydim(1600), phase_zdim(209)\n",
      "    variables(dimensions): int8 phase(phase_zdim,phase_ydim,phase_xdim)\n",
      "    groups: \n"
     ]
    }
   ],
   "source": [
    "tiff.imwrite('block00000001.tiff', image.astype(np.uint8), compress = 6, imagej=True,\n",
    "metadata={'Variable': print('Variable:',v),'subsectsize':print('New_Subsect_Shape:',image.shape),'metadata/History': print('datadump/history:',data)})\n",
    "print(image.dtype)"
   ]
  },
  {
   "cell_type": "markdown",
   "metadata": {},
   "source": [
    "#### Creating Subsections of the data\n",
    "\n",
    "Input the coordinates of subsection you need.Corrdinates are flipped in data sets so you want to make sure to understand how the corrdinate system is in the file\n",
    "\n"
   ]
  },
  {
   "cell_type": "code",
   "execution_count": null,
   "metadata": {},
   "outputs": [],
   "source": [
    "New_slice1 = image[:,0:512,:]            # input the z,y,x coordinates"
   ]
  },
  {
   "cell_type": "markdown",
   "metadata": {},
   "source": [
    "#### Save slices of subsections in Volumetric Tiff"
   ]
  },
  {
   "cell_type": "code",
   "execution_count": null,
   "metadata": {},
   "outputs": [],
   "source": [
    "tiff.imwrite('New_slice1.tiff', New_slice1, imagej=True,\n",
    "metadata={'Variable': print('Variable:',v),'subsectsize':print('New_Subsect_Shape:',New_slice1.shape),'metadata/History': print('datadump/history:',data)})\n",
    "print(volume.dtype)"
   ]
  },
  {
   "cell_type": "markdown",
   "metadata": {},
   "source": [
    "### Creating a Netcdf Format file for the new sliced Array\n",
    "(File Size Reduced)\n",
    "A bit tricky but the following steps are taken.\n",
    "##### Coverting back to Netcdf api have bugs in the python API so restart and run the kernal if you get any error\n",
    "\n",
    "1)Open/create a netCDF dataset.(create group as well)\n",
    "\n",
    "2)Define the dimensions of the data.\n",
    "\n",
    "3)Construct netCDF variables using the defined dimensions.\n",
    "\n",
    "4)Pass data into the netCDF variables.\n",
    "\n",
    "5)Add attributes to the variables and dataset (optional but recommended).\n",
    "\n",
    "6)Close the netCDF dataset.\n",
    "\n",
    "\n",
    "I am only storing one subsected array (New_slice1) from data1\n",
    "#### 1)Open/create a netCDF dataset.(create group as well)\n"
   ]
  },
  {
   "cell_type": "code",
   "execution_count": null,
   "metadata": {},
   "outputs": [],
   "source": [
    "f = ncdf.Dataset('New_Slice1.nc','w', format='NETCDF4')"
   ]
  },
  {
   "cell_type": "code",
   "execution_count": null,
   "metadata": {},
   "outputs": [],
   "source": [
    "drpgrp = f.createGroup('Digital_Rock_Petrophysics')"
   ]
  },
  {
   "cell_type": "markdown",
   "metadata": {},
   "source": [
    "#### 2)Define the dimensions of the data.\n",
    "Assign the shapes of the subsected z,y,x cordinates. Make sure not to flip"
   ]
  },
  {
   "cell_type": "code",
   "execution_count": null,
   "metadata": {},
   "outputs": [],
   "source": [
    "drpgrp.createDimension('new_slice_z', New_slice1.shape[0])\n",
    "drpgrp.createDimension('new_slice_y', New_slice1.shape[1])\n",
    "drpgrp.createDimension('new_slice_x', New_slice1.shape[2])"
   ]
  },
  {
   "cell_type": "markdown",
   "metadata": {},
   "source": [
    "#### 3)Construct netCDF variables using the defined dimensions.\n",
    "'i' for integer\n",
    "'f' for float\n",
    "to compress the file turn zlib = 'True'"
   ]
  },
  {
   "cell_type": "code",
   "execution_count": null,
   "metadata": {},
   "outputs": [],
   "source": [
    "Segmented_Subsect01 = drpgrp.createVariable('Segmented_Subsect01', 'f4', ('new_slice_z','new_slice_y','new_slice_x'),zlib=False)"
   ]
  },
  {
   "cell_type": "code",
   "execution_count": null,
   "metadata": {},
   "outputs": [],
   "source": [
    "print(f)\n",
    "print(f.groups['Digital_Rock_Petrophysics'])"
   ]
  },
  {
   "cell_type": "markdown",
   "metadata": {},
   "source": [
    "#### 4)Pass data into the netCDF variables.\n"
   ]
  },
  {
   "cell_type": "code",
   "execution_count": null,
   "metadata": {},
   "outputs": [],
   "source": [
    "Segmented_Subsect01[:] = New_slice1\n",
    "print(Segmented_Subsect01)"
   ]
  },
  {
   "cell_type": "markdown",
   "metadata": {},
   "source": [
    "#### 5)Add attributes to the variables and dataset (optional but recommended).\n",
    "description of the data can be added here"
   ]
  },
  {
   "cell_type": "code",
   "execution_count": null,
   "metadata": {},
   "outputs": [],
   "source": [
    "from datetime import datetime\n",
    "today = datetime.today()\n",
    "f.description = \"Subsectioned Data\"\n",
    "f.history = \"Created \" + today.strftime(\"%d/%m/%y\")\n",
    "f.valid_range: [0,2]\n",
    "f.FillValue: -127 \n",
    "#Add local attributes to variable instances\n",
    "Segmented_Subsect01.units = 'unlimited dimensions'"
   ]
  },
  {
   "cell_type": "markdown",
   "metadata": {},
   "source": [
    "#### 6)Close the netCDF dataset.\n",
    "The file is subsection of the file is created"
   ]
  },
  {
   "cell_type": "code",
   "execution_count": null,
   "metadata": {},
   "outputs": [],
   "source": [
    "f.close()"
   ]
  },
  {
   "cell_type": "markdown",
   "metadata": {},
   "source": [
    "Read the file that you created to double check"
   ]
  },
  {
   "cell_type": "code",
   "execution_count": null,
   "metadata": {},
   "outputs": [],
   "source": [
    "f = ncdf.Dataset('task1.nc','r')\n",
    "drpgrp = f.groups['Digital_Rock_Petrophysics']\n",
    "\n",
    "print (\"meta data for the dataset:\")\n",
    "print(f)\n",
    "print (\"meta data for the Digital_Rock_Petrophysics group:\")\n",
    "print(drpgrp)\n",
    "print (\"meta data for segmented_subsection01 variable:\")\n",
    "print(drpgrp.variables)"
   ]
  },
  {
   "cell_type": "markdown",
   "metadata": {},
   "source": [
    "### Netcdf file is successfull created and NCview can be used to visualize the file. Fiji can be used to analyze jpg, png, raw and Tiff formats\n",
    "\n",
    "Contact Ahad Momin (ahadmomin16@gmail.com) for any help with the code"
   ]
  }
 ],
 "metadata": {
  "kernelspec": {
   "display_name": "Python 3",
   "language": "python",
   "name": "python3"
  },
  "language_info": {
   "codemirror_mode": {
    "name": "ipython",
    "version": 3
   },
   "file_extension": ".py",
   "mimetype": "text/x-python",
   "name": "python",
   "nbconvert_exporter": "python",
   "pygments_lexer": "ipython3",
   "version": "3.7.1"
  }
 },
 "nbformat": 4,
 "nbformat_minor": 2
}
